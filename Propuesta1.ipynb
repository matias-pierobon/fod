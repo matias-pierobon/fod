{
 "cells": [
  {
   "cell_type": "markdown",
   "metadata": {},
   "source": [
    "# Fundamentos de Organización de Datos\n",
    "## Propuesta de Cátedra"
   ]
  },
  {
   "cell_type": "markdown",
   "metadata": {},
   "source": [
    "### Introducción\n",
    "El principal eje propuesto en este documento trata de presentar un enfoque incremental para la organización de información en memoria secundaria. El principal hilo consta del siguiente flujo\n",
    "\n",
    "- Serialización: Como transformamos la data en una forma normal y distribuible independiente del lenguaje y de la memoria princiapl\n",
    "  - JSON\n",
    "  - XML\n",
    "  - YAML\n",
    "  - Struct\n",
    "  - Pickle\n",
    "- Archivos estructurados: Dado una fuerte serialización binaria estructurada, se propone implementar un mecanismo de archivos de longitud fija para almacenar la data serializada. Y el mecanismo inverso\n",
    "- Archivos dinámicos: Dado un buen esquema estructurado se propone un esquema de longitud variable para almacenar la información de forma binaria\n",
    "- Archivos de Texto: En un enfoque de colavoración se aplican tecnicas de serialización a strings en archivos normalizados entendibles por el usuario\n",
    "- Aplicaciones en el mundo real\n",
    "  - API\n",
    "  - Configuraciones\n",
    "  - Reportes"
   ]
  },
  {
   "cell_type": "markdown",
   "metadata": {},
   "source": [
    "### Serialización\n",
    "La serialización *(serialization)* es el proceso de transformar las estructuras de datos en un formato que puede ser guardado o transmitido y luego reconstruido.\n",
    "\n",
    "El proceso contrario, de extraer la estructura de datos a partir de una secuencia de bytes, se lo conoce como deserialización *(deserialization/unmarshalling)*\n",
    "\n",
    "Un serializador puede estar descompuesto en dos pasos:\n",
    "- Normalización: Transformar la data en una estructura normal de tipo `(clave, valor)`.\n",
    "- Encodificación: Transformar la estructura normal en una cadena de bytes transmisible.\n",
    "\n",
    "![Symfony Serializer Component](https://symfony.com/doc/current/_images/serializer_workflow.png)"
   ]
  },
  {
   "cell_type": "markdown",
   "metadata": {},
   "source": [
    "Algunos ejemplos conocidos de formatos de encodificación, entre otros, son:\n",
    "- JSON\n",
    "- XML\n",
    "- YAML\n",
    "- Struct\n",
    "- Pickle\n",
    "- Ston"
   ]
  },
  {
   "cell_type": "markdown",
   "metadata": {},
   "source": [
    "Nosotros definiremos las dos operaciones de un serializador de la forma:\n",
    "- `serialize(data)`: Responsable de transformar un dato a un formato guardable\n",
    "- `deserialize(buffer)`: Responsable de transformar un formato guardable a una estructura de datos"
   ]
  },
  {
   "cell_type": "markdown",
   "metadata": {},
   "source": [
    "#### Ejemplos\n",
    "El primer ejemplo a proponer será serializar una tupla de dos valores enteros `(x, y)` a una estructura binaria compuesta por un entero, un separador en blanco y otro entero `b{ixi}`"
   ]
  },
  {
   "cell_type": "code",
   "execution_count": 5,
   "metadata": {
    "collapsed": true
   },
   "outputs": [],
   "source": [
    "from struct import Struct"
   ]
  },
  {
   "cell_type": "code",
   "execution_count": 95,
   "metadata": {
    "collapsed": true
   },
   "outputs": [],
   "source": [
    "# definimos la estructura binaria\n",
    "a = Struct('ixi')\n",
    "\n",
    "def serialize(*data):\n",
    "    # enpaquetamos los elementos de la tupla en la estructura\n",
    "    return a.pack(*data)\n",
    "\n",
    "def deserialize(buffer):\n",
    "    # desempaquetamos los elementos del buffer en base a la estructura\n",
    "    return a.unpack(buffer)"
   ]
  },
  {
   "cell_type": "code",
   "execution_count": 96,
   "metadata": {},
   "outputs": [
    {
     "data": {
      "text/plain": [
       "b'\\n\\x00\\x00\\x00\\x00\\x00\\x00\\x00\\x9a\\x00\\x00\\x00'"
      ]
     },
     "execution_count": 96,
     "metadata": {},
     "output_type": "execute_result"
    }
   ],
   "source": [
    "serialize(10, 154)"
   ]
  },
  {
   "cell_type": "code",
   "execution_count": 97,
   "metadata": {},
   "outputs": [
    {
     "data": {
      "text/plain": [
       "(10, 154)"
      ]
     },
     "execution_count": 97,
     "metadata": {},
     "output_type": "execute_result"
    }
   ],
   "source": [
    "deserialize(b'\\n\\x00\\x00\\x00\\x00\\x00\\x00\\x00\\x9a\\x00\\x00\\x00')"
   ]
  },
  {
   "cell_type": "markdown",
   "metadata": {},
   "source": [
    "Un ejemplo para la serialización del objeto `Point` a JSON podría ser:"
   ]
  },
  {
   "cell_type": "code",
   "execution_count": 98,
   "metadata": {
    "collapsed": true
   },
   "outputs": [],
   "source": [
    "import json"
   ]
  },
  {
   "cell_type": "code",
   "execution_count": 99,
   "metadata": {
    "collapsed": true
   },
   "outputs": [],
   "source": [
    "class Point:\n",
    "    def __init__(self, x, y):\n",
    "        self.x = x\n",
    "        self.y = y\n",
    "\n",
    "class PointSerializer:\n",
    "    def serialize(self, aPoint):\n",
    "        return self.encode(self.normalize(aPoint))\n",
    "    \n",
    "    def deserialize(self, aJson):\n",
    "        return self.denormalize(self.decode(aJson))\n",
    "    \n",
    "    def encode(self, data):\n",
    "        return json.dumps(data)\n",
    "    \n",
    "    def decode(self, aJson):\n",
    "        return json.loads(aJson)\n",
    "    \n",
    "    def normalize(self, aPoint):\n",
    "        return { 'x': aPoint.x, 'y': aPoint.y }\n",
    "    \n",
    "    def denormalize(self, data):\n",
    "        return Point(x=data['x'], y=data['y'])"
   ]
  },
  {
   "cell_type": "code",
   "execution_count": 100,
   "metadata": {
    "scrolled": true
   },
   "outputs": [
    {
     "name": "stdout",
     "output_type": "stream",
     "text": [
      "{\"x\": 1, \"y\": 5}\n",
      "{\"x\": -2, \"y\": 3}\n",
      "10\n",
      "20\n"
     ]
    }
   ],
   "source": [
    "p1 = Point(1, 5)\n",
    "p2 = Point(-2, 3)\n",
    "\n",
    "serializer = PointSerializer()\n",
    "print(serializer.serialize(p1))\n",
    "print(serializer.serialize(p2))\n",
    "\n",
    "p3 = serializer.deserialize('{\"x\": 10, \"y\": 20}')\n",
    "print(p3.x)\n",
    "print(p3.y)"
   ]
  },
  {
   "cell_type": "markdown",
   "metadata": {},
   "source": [
    "### Archivos Estructurados\n",
    "Como vimos en la sección anterior, logramos obtener una representación binaria de una tupla de dos enteros.\n",
    "\n",
    "Es logico entonces pensar que podemos estructurar un archivo tal que guarde un conjunto de dichos binarios para luego entenderlos como tuplas.\n",
    "\n",
    "Llamamos entonces, archivo estructurado a aquel archivo que almacena elementos de una estructura determinada, y cada elemento tiene el mismo tamaño determinante.\n",
    "\n",
    "Luego podemos decir que el i-ésimo elemento en ese archivo se encuentra en la posición `i*n` y se encuentra en los proximos `n` bytes; siendo `n` el tamaño de la estructura"
   ]
  },
  {
   "cell_type": "markdown",
   "metadata": {},
   "source": [
    "En python, un archivo se abre bajo la función `open(filename, mode)`. En particualr nuestro archivo contendrá elementos binarios y realizaremos operaciones de escritura y lectura; por lo tanto el modo será `'wb+'`.\n",
    "- `w`: Para tener privilegios de escritura\n",
    "- `b`: Por ser binario\n",
    "- `+`: Para escalar a lectura"
   ]
  },
  {
   "cell_type": "code",
   "execution_count": 101,
   "metadata": {
    "collapsed": true
   },
   "outputs": [],
   "source": [
    "file = open('numeros.dat', 'rb+')"
   ]
  },
  {
   "cell_type": "code",
   "execution_count": 102,
   "metadata": {},
   "outputs": [
    {
     "name": "stdout",
     "output_type": "stream",
     "text": [
      "(10, 10)\n",
      "(-5, 20)\n",
      "(-5, 20)\n"
     ]
    }
   ],
   "source": [
    "file.seek(0)\n",
    "file.write(serialize(10, 10))\n",
    "file.write(serialize(-5, 20))\n",
    "file.write(serialize(-5, 20))\n",
    "file.seek(0)\n",
    "while True:\n",
    "    try:\n",
    "        # se lee tantos bytes como el tamaño de la estructura\n",
    "        print(deserialize(file.read(a.size) )) # se deserializa el buffer\n",
    "    except:\n",
    "        break # Se sale del while por EOF"
   ]
  },
  {
   "cell_type": "markdown",
   "metadata": {},
   "source": [
    "#### Ejercicios "
   ]
  },
  {
   "cell_type": "code",
   "execution_count": 103,
   "metadata": {
    "collapsed": true
   },
   "outputs": [],
   "source": [
    "with open('e1.dat', 'wb+') as file:\n",
    "    a = Struct('i')\n",
    "    file.write(a.pack(10))\n",
    "    file.write(a.pack(15))\n",
    "    file.write(a.pack(1))\n",
    "    file.write(a.pack(5))\n",
    "    file.write(a.pack(13))\n",
    "with open('e2.dat', 'wb+') as file:\n",
    "    a = Struct('i')\n",
    "    file.write(a.pack(1))\n",
    "    file.write(a.pack(2))\n",
    "    file.write(a.pack(3))\n",
    "    file.write(a.pack(4))\n",
    "    file.write(a.pack(5))"
   ]
  },
  {
   "cell_type": "code",
   "execution_count": 104,
   "metadata": {},
   "outputs": [
    {
     "name": "stdout",
     "output_type": "stream",
     "text": [
      "15\n"
     ]
    }
   ],
   "source": [
    "def ejercicio1():\n",
    "    '''\n",
    "    Encontrar el maximo numero en un archivo de enteros\n",
    "    '''\n",
    "    a = Struct('i')\n",
    "    maximo = 0\n",
    "    file = open('e1.dat', 'rb')\n",
    "    while True:\n",
    "        try:\n",
    "            n, = a.unpack(file.read(a.size))\n",
    "            maximo = max(n, maximo)\n",
    "        except:\n",
    "            break\n",
    "    print(maximo)\n",
    "ejercicio1()"
   ]
  },
  {
   "cell_type": "code",
   "execution_count": 105,
   "metadata": {},
   "outputs": [
    {
     "name": "stdout",
     "output_type": "stream",
     "text": [
      "(2,)\n",
      "(4,)\n",
      "(6,)\n",
      "(8,)\n",
      "(10,)\n"
     ]
    }
   ],
   "source": [
    "def ejercicio2():\n",
    "    '''\n",
    "    Actualizar un archivo de enteros. Dado cada elemento, su doble\n",
    "    '''\n",
    "    a = Struct('i')\n",
    "    file = open('e2.dat', 'rb+')\n",
    "    while True:\n",
    "        try:\n",
    "            n, = a.unpack(file.read(a.size))\n",
    "            file.seek(file.tell() - a.size)\n",
    "            file.write(a.pack(n*2))\n",
    "        except:\n",
    "            break\n",
    "ejercicio2()\n",
    "with open('e2.dat', 'rb') as file:\n",
    "    try: \n",
    "        while True:\n",
    "            print(Struct('i').unpack(file.read(4)))\n",
    "    except:\n",
    "        pass"
   ]
  },
  {
   "cell_type": "markdown",
   "metadata": {},
   "source": [
    "Como nos podemos dar cuenta, existe una estructura que siempre se repite la cual se puede identificar como\n",
    "\n",
    "```\n",
    "mientras pueda:\n",
    "    me quedo con el proximo elemento deserializado\n",
    "    lo proceso\n",
    "sino:\n",
    "    dejo de procesar\n",
    "```\n",
    "    \n",
    "podemos entonces modularizar ese problema, el cual llamaremos iterar el archivo."
   ]
  },
  {
   "cell_type": "code",
   "execution_count": 10,
   "metadata": {
    "collapsed": true
   },
   "outputs": [],
   "source": [
    "def file_iterator(file, structure):\n",
    "    file.seek(0)\n",
    "    try:\n",
    "        while True:\n",
    "            yield structure.unpack(file.read(structure.size))\n",
    "    except:\n",
    "        return"
   ]
  },
  {
   "cell_type": "markdown",
   "metadata": {},
   "source": [
    "Luego podemos usar a nuestro archivo de la siguiente forma"
   ]
  },
  {
   "cell_type": "code",
   "execution_count": 27,
   "metadata": {},
   "outputs": [
    {
     "name": "stdout",
     "output_type": "stream",
     "text": [
      "Categoria:  c\n",
      "Numero:  15\n",
      "Categoria:  a\n",
      "Numero:  20\n",
      "Categoria:  b\n",
      "Numero:  1\n",
      "Categoria:  c\n",
      "Numero:  16\n",
      "Categoria:  c\n",
      "Numero:  17\n",
      "Categoria:  a\n",
      "Numero:  21\n"
     ]
    }
   ],
   "source": [
    "a = Struct('cxi')\n",
    "turnos = open('turnos.dat', 'wb+')\n",
    "for (cat, num) in file_iterator(turnos, a):\n",
    "    print('Categoria: ', cat.decode(\"utf-8\"))\n",
    "    print('Numero: ', num)"
   ]
  },
  {
   "cell_type": "code",
   "execution_count": 28,
   "metadata": {},
   "outputs": [
    {
     "data": {
      "text/plain": [
       "8"
      ]
     },
     "execution_count": 28,
     "metadata": {},
     "output_type": "execute_result"
    }
   ],
   "source": [
    "# cargamos alguna información\n",
    "turnos.seek(0)\n",
    "turnos.write(a.pack(b'c', 15))\n",
    "turnos.write(a.pack(b'a', 20))\n",
    "turnos.write(a.pack(b'b', 1))\n",
    "turnos.write(a.pack(b'c', 16))\n",
    "turnos.write(a.pack(b'c', 17))\n",
    "turnos.write(a.pack(b'a', 21))"
   ]
  },
  {
   "cell_type": "markdown",
   "metadata": {},
   "source": [
    "### Archivos Dinámicos"
   ]
  },
  {
   "cell_type": "code",
   "execution_count": null,
   "metadata": {
    "collapsed": true
   },
   "outputs": [],
   "source": []
  },
  {
   "cell_type": "markdown",
   "metadata": {},
   "source": [
    "### Archivos de Texto"
   ]
  },
  {
   "cell_type": "markdown",
   "metadata": {},
   "source": [
    "#### Ejemplos\n",
    "\n",
    "Construiremos un lenguaje de programación en el cual existen solamente 4 operaciones:\n",
    "\n",
    " - Asignación: `x = 10`\n",
    " - Incremento: `x +`\n",
    " - Inversión: `x !`\n",
    " - Traslación: `x -> 1`\n",
    " \n",
    "En el caso de la traslación se fija si la variable es igual a 0, y de serlo se mueve a la linea indicada"
   ]
  },
  {
   "cell_type": "code",
   "execution_count": 51,
   "metadata": {},
   "outputs": [],
   "source": [
    "def run(file, **vars):\n",
    "    variables = dict(vars)\n",
    "    \n",
    "    # devuelve un numero si lo es, o el valor de la variable\n",
    "    def get(var):\n",
    "        if(var.isdigit()):\n",
    "            return int(var)\n",
    "        return variables[var]\n",
    "    \n",
    "    # asigna a la variable un valor\n",
    "    def assing(var, value):\n",
    "        variables[var] = get(value)\n",
    "        return variables[var]\n",
    "    \n",
    "    #invierte la variable\n",
    "    def invert(var):\n",
    "        variables[var] = -variables[var]\n",
    "        return variables[var]\n",
    "    \n",
    "    # incrementa la variable\n",
    "    def increment(var):\n",
    "        variables[var] += 1\n",
    "        return variables[var]\n",
    "    \n",
    "    def translate(var, position):\n",
    "        if(not (variables[var] == 0)): # si la variable no es 0\n",
    "            file.seek(0) # va al principio del archivo\n",
    "            for i in range(get(position)):\n",
    "                file.readline() # se mueve tantas lineas como potition\n",
    "    \n",
    "    def interprete(statement):\n",
    "        # statement es un arreglo donde:\n",
    "        # s[0] = variable\n",
    "        # s[1] = operacion\n",
    "        # s[2] = valor (es opcional)\n",
    "        \n",
    "        var = statement[0]\n",
    "        op = statement[1]\n",
    "        \n",
    "        if(var == '#'): # es un comentario\n",
    "            return\n",
    "        \n",
    "        if(op == '='):\n",
    "            return assing(var, statement[2])\n",
    "        elif(op == '+'):\n",
    "            return increment(var)\n",
    "        elif(op == '!'):\n",
    "            return invert(var)\n",
    "        elif(op == '->'):\n",
    "            return translate(var, statement[2])\n",
    "            \n",
    "    def serialize(line):\n",
    "        return line.split()\n",
    "        \n",
    "    for line in file:\n",
    "        print(interprete(serialize(line)))"
   ]
  },
  {
   "cell_type": "code",
   "execution_count": 56,
   "metadata": {},
   "outputs": [
    {
     "name": "stdout",
     "output_type": "stream",
     "text": [
      "None\n",
      "None\n",
      "10\n",
      "-5\n",
      "-4\n",
      "11\n",
      "None\n",
      "-3\n",
      "12\n",
      "None\n",
      "-2\n",
      "13\n",
      "None\n",
      "-1\n",
      "14\n",
      "None\n",
      "0\n",
      "15\n",
      "None\n",
      "-15\n",
      "15\n"
     ]
    }
   ],
   "source": [
    "with open('sumator.mat', 'w+') as file:\n",
    "    file.write('# x = 10\\n')\n",
    "    file.write('# y = 5\\n')\n",
    "    file.write('tmp = x\\n')\n",
    "    file.write('y !\\n')\n",
    "    file.write('y +\\n')\n",
    "    file.write('tmp +\\n')\n",
    "    file.write('y -> 4\\n')\n",
    "    file.write('tmp !\\n')\n",
    "    file.write('tmp !')\n",
    "    file.seek(0)\n",
    "    run(file, x=10, y=5)"
   ]
  }
 ],
 "metadata": {
  "kernelspec": {
   "display_name": "Python 3",
   "language": "python",
   "name": "python3"
  },
  "language_info": {
   "codemirror_mode": {
    "name": "ipython",
    "version": 3
   },
   "file_extension": ".py",
   "mimetype": "text/x-python",
   "name": "python",
   "nbconvert_exporter": "python",
   "pygments_lexer": "ipython3",
   "version": "3.6.2"
  }
 },
 "nbformat": 4,
 "nbformat_minor": 2
}
